{
  "cells": [
    {
      "cell_type": "markdown",
      "metadata": {
        "id": "view-in-github",
        "colab_type": "text"
      },
      "source": [
        "<a href=\"https://colab.research.google.com/github/dnzengou/chatgpt-conversation/blob/main/revChatGPT.ipynb\" target=\"_parent\"><img src=\"https://colab.research.google.com/assets/colab-badge.svg\" alt=\"Open In Colab\"/></a>"
      ]
    },
    {
      "cell_type": "markdown",
      "source": [
        "souce: [revChatGPT](https://github.com/acheong08/ChatGPT)"
      ],
      "metadata": {
        "id": "n_Pw_zfDH1JE"
      },
      "id": "n_Pw_zfDH1JE"
    },
    {
      "cell_type": "markdown",
      "source": [
        "[chatopenai](https://chat.openai.com/api/auth/session)<br>\n",
        "\n",
        "[__Secure-next-auth.session-token](eyJhbGciOiJkaXIiLCJlbmMiOiJBMjU2R0NNIn0..1JnbSTIlzg7fFN_f.ZFYHSTDOiKLBni7UwGx81XS4cWbFjJK5lLqLy0kCm7kcvsFjnQhL_NZF4XFlS4tWOVQ3oiQL1WxEd9u9XA6aPxvEzcXAj4qpkjEeb8XXtD7vk5Ro1yjo9CsFsw8PGsUdsXfEvH1HQsrt28gwLaMot_b6zaFkrzQvky404lmwS42yIYPjLE_Ea5iW8fm-kdxI8lSfqKnn-VWmb1sxYPQzyYv0z8cAK74Fm7avjHNOZs6-bLwJqfvySH9CNnvsHXSOO-vsMx2cuKMRStKkpb3qevDy63My-Gefbd-nsNYOOUp7Ffn50ZnF3yJiGo5wqjj83U8wUya_Y7DVRF2tSNtCSLBj776u49ql48tWnm9ezJo6Oe5cnq7gf6IqIgKuZlhxH6skCEd-hLSToVUSXfppno8tLBGuvb6-YaKddiq4Qfq11Yl0kgfYPacDWEJXPWd95X7xvvli9OnzAfviusGHrQBNls4VrgwPWFtJpc5mMxLC6bAaGROIQoOexwNzUgkQSDfyIYjUvaHPyUAWUheFHz7WqqhHELc5Yy2LW5rQOLm7OxSkWDsUsFmhvBFHXp5IvwgJCj0xuz-Q6_NJLskUtPVwq_a9HiBuTksw25oOIqzy51ATTarkMcPpBzWhPbQyawPAIkKX_CiPph0KGVI0eJdP5Qc9WKsVvTQXkMZ0nwOzP2PcYk0nP5SKcFI9z40YWaDd74A9AZ1mMws3vtBW4nLXueGjCLh_410T8buwq6olVvOhHdbLn8LFwpW_3s7WgJS8phGdfgZhVyB0Z_eKJReP_7_dmdDhepXxia0BPSerE7Oh2bO4TlxPe21a4lzDfxgBXBP1aODKmIXbcpjYrFvxO4xzAKTXYubZsAZ2jfnyaXJYRprecOPS-W1wu-da0DUTnQ-u9-8CqkOpaY5cbMlZvlcWVZpwsE4yI_XZkea-euxeTuCt-X_d8w-0K_Y6THdvw0IC-ZnfJ4evtVLAdDVUxRiy4PdqdiThV_9NJVxoFfWYYz6vdEDf1LW8g2akAMW45SrMD32pSJ1ruPWoFe86lp1BKceXuooraYKDBMqBPwNwWtdFB0hcZr7Lj0Wg_ZON4IpccF8yB6R1hF4SNQ6T5i6iL8VWDmdFQWLa7h71NkeUDyXwoPWgLAE3NWGrtfcGDnNKRMnfBrjkdZWofIuGmAkp9JEkTkekTl0_lH1nAb2R3uYKhruPTR_Esf3CTcWs5b1AqHmgj2TTDwHAeR4uaNETonhRx_F-x0esWzdbN22-twRz8zeo6GaqzsWPxE45w2pYjm7ve3Li7k0PEdcISjw9TaXro4IZkvvdiVrQtIZ4IxZ4ElW9QaAjQD_3Yq9HO89uJsvfczQlR9jDV39eAgwpmRVoIrFpsh7pIqR8s_Dn0bK_8Q8d0amXO6hEsxxhFcx-XplB2l72Wq-hK88jzH159XoL6PgbGvVyfiROQu1xLV-RNjoeU1s7O_HIWUz83rF_jkoAOxwk44Jmn9x9oiC2fTif_3N2rrhEB08A3ziodoeBBMCv8m3CaCB-j4kHHMt_TI3XHoesyziKZ6Dg8_UzGEij9NyOOUNXNKGT8mWWgmIcYbSedphJnv8TXl4mT0qIs5F9rzBsiZ_3QlrgznzZamGawKS22Xwm6s-FYrmh2uShlYFvOQEeYuRlmAq3-kACD19DfCOaXOKPhP5LK0ekc7yqTKGPu-2pS5ANOZ3jzOmywDZcQ5n17VX34Ws-CMPc2QhK8ECNl3O9LY8q5KBLIhCWu2sWTiJRaOMSTIOdI8duB8XitF-13qlhd3ISRFk726PI3fmBkA51u2XJC5cMX4oHYVbtEtV6YRPy9fhIk9qZod7Sn6apXTGY977pfAvz8Hxo5htcugIq3sCj7QMogMNFur6iAQ215rj_Wn9BIQGil9lVh67gUk7VPHOKhniISBK8IBu6rBPUmxk8l6WiUv8agudqnanAJB45NJLqMw6SP_raj027z952rMGFFHWP2hxqnoe-j2PzklU7VfYzOTh8pyRJIcvRULKhJNeI0RkbnNVHJfkqG57e1tV35xBc-ggBbk8Rb38dUOgB5yIYh8IT5-y19xAxDHu_4V47txGb8d2l_rk12ACbUIQhTur_GaDHmnkARcVJ_GnWQtMQ1orO01Ll4tPAPLSYS5GWItUb1qDl9lDGcbT_DMOvK_b0hZ6FhV4HjgiGsUS8WbzrmMLZeSnW1x3_MBR6zBZg9EGl_hgzWQdiv3DKOlcfw4F-sJ-RrzGoonIB15qdnjO41zhKTj65CuwS9IsX.52unl9pTT8jknewlwMmQqQ)"
      ],
      "metadata": {
        "id": "0bAOdL8cID-Y"
      },
      "id": "0bAOdL8cID-Y"
    },
    {
      "cell_type": "code",
      "execution_count": 7,
      "id": "d89d0630",
      "metadata": {
        "id": "d89d0630",
        "colab": {
          "base_uri": "https://localhost:8080/",
          "height": 662
        },
        "outputId": "9f21f4ad-c927-4e0a-8176-0579aec09437"
      },
      "outputs": [
        {
          "output_type": "stream",
          "name": "stdout",
          "text": [
            "Looking in indexes: https://pypi.org/simple, https://us-python.pkg.dev/colab-wheels/public/simple/\n",
            "Requirement already satisfied: revChatGPT in /usr/local/lib/python3.8/dist-packages (0.1.0)\n",
            "Collecting revChatGPT\n",
            "  Downloading revChatGPT-0.1.1-py3-none-any.whl (16 kB)\n",
            "Requirement already satisfied: tls-client>=0.1.7 in /usr/local/lib/python3.8/dist-packages (from revChatGPT) (0.1.8)\n",
            "Requirement already satisfied: selenium>=4.7.2 in /usr/local/lib/python3.8/dist-packages (from revChatGPT) (4.7.2)\n",
            "Requirement already satisfied: 2captcha-python>=1.1.3 in /usr/local/lib/python3.8/dist-packages (from revChatGPT) (1.1.3)\n",
            "Requirement already satisfied: undetected-chromedriver>=3.1.7 in /usr/local/lib/python3.8/dist-packages (from revChatGPT) (3.2.1)\n",
            "Requirement already satisfied: requests in /usr/local/lib/python3.8/dist-packages (from 2captcha-python>=1.1.3->revChatGPT) (2.25.1)\n",
            "Requirement already satisfied: trio~=0.17 in /usr/local/lib/python3.8/dist-packages (from selenium>=4.7.2->revChatGPT) (0.22.0)\n",
            "Requirement already satisfied: urllib3[socks]~=1.26 in /usr/local/lib/python3.8/dist-packages (from selenium>=4.7.2->revChatGPT) (1.26.13)\n",
            "Requirement already satisfied: trio-websocket~=0.9 in /usr/local/lib/python3.8/dist-packages (from selenium>=4.7.2->revChatGPT) (0.9.2)\n",
            "Requirement already satisfied: certifi>=2021.10.8 in /usr/local/lib/python3.8/dist-packages (from selenium>=4.7.2->revChatGPT) (2022.12.7)\n",
            "Requirement already satisfied: websockets in /usr/local/lib/python3.8/dist-packages (from undetected-chromedriver>=3.1.7->revChatGPT) (10.4)\n",
            "Requirement already satisfied: outcome in /usr/local/lib/python3.8/dist-packages (from trio~=0.17->selenium>=4.7.2->revChatGPT) (1.2.0)\n",
            "Requirement already satisfied: sortedcontainers in /usr/local/lib/python3.8/dist-packages (from trio~=0.17->selenium>=4.7.2->revChatGPT) (2.4.0)\n",
            "Requirement already satisfied: idna in /usr/local/lib/python3.8/dist-packages (from trio~=0.17->selenium>=4.7.2->revChatGPT) (2.10)\n",
            "Requirement already satisfied: sniffio in /usr/local/lib/python3.8/dist-packages (from trio~=0.17->selenium>=4.7.2->revChatGPT) (1.3.0)\n",
            "Requirement already satisfied: exceptiongroup>=1.0.0rc9 in /usr/local/lib/python3.8/dist-packages (from trio~=0.17->selenium>=4.7.2->revChatGPT) (1.1.0)\n",
            "Requirement already satisfied: attrs>=19.2.0 in /usr/local/lib/python3.8/dist-packages (from trio~=0.17->selenium>=4.7.2->revChatGPT) (22.2.0)\n",
            "Requirement already satisfied: async-generator>=1.9 in /usr/local/lib/python3.8/dist-packages (from trio~=0.17->selenium>=4.7.2->revChatGPT) (1.10)\n",
            "Requirement already satisfied: wsproto>=0.14 in /usr/local/lib/python3.8/dist-packages (from trio-websocket~=0.9->selenium>=4.7.2->revChatGPT) (1.2.0)\n",
            "Requirement already satisfied: PySocks!=1.5.7,<2.0,>=1.5.6 in /usr/local/lib/python3.8/dist-packages (from urllib3[socks]~=1.26->selenium>=4.7.2->revChatGPT) (1.7.1)\n",
            "Requirement already satisfied: chardet<5,>=3.0.2 in /usr/local/lib/python3.8/dist-packages (from requests->2captcha-python>=1.1.3->revChatGPT) (4.0.0)\n",
            "Requirement already satisfied: h11<1,>=0.9.0 in /usr/local/lib/python3.8/dist-packages (from wsproto>=0.14->trio-websocket~=0.9->selenium>=4.7.2->revChatGPT) (0.14.0)\n",
            "Installing collected packages: revChatGPT\n",
            "  Attempting uninstall: revChatGPT\n",
            "    Found existing installation: revChatGPT 0.1.0\n",
            "    Uninstalling revChatGPT-0.1.0:\n",
            "      Successfully uninstalled revChatGPT-0.1.0\n",
            "Successfully installed revChatGPT-0.1.1\n"
          ]
        },
        {
          "output_type": "display_data",
          "data": {
            "application/vnd.colab-display-data+json": {
              "pip_warning": {
                "packages": [
                  "revChatGPT"
                ]
              }
            }
          },
          "metadata": {}
        }
      ],
      "source": [
        "#install packages\n",
        "!pip3 install --upgrade revChatGPT"
      ]
    },
    {
      "cell_type": "code",
      "source": [
        "#run ChatGPT.py\n",
        "##source: https://github.com/acheong08/ChatGPT/tree/main/src/revChatGPT\n",
        "\n",
        "#!python3 -m revChatGPT\n"
      ],
      "metadata": {
        "id": "OQF5RBW1K7Ku"
      },
      "id": "OQF5RBW1K7Ku",
      "execution_count": null,
      "outputs": []
    },
    {
      "cell_type": "markdown",
      "source": [
        "```\n",
        "from revChatGPT.ChatGPT import Chatbot\n",
        "\n",
        "chatbot = Chatbot({\n",
        "  \"session_token\": \"<YOUR_TOKEN>\"}, conversation_id=None, parent_id=None) # You can start a custom conversation\n",
        "\n",
        "response = chatbot.ask(\"Prompt\", conversation_id=None, parent_id=None) # You can specify custom conversation and parent ids. Otherwise it uses the saved conversation (yes. conversations are automatically saved)\n",
        "\n",
        "print(response)\n",
        "# {\n",
        "#   \"message\": message,\n",
        "#   \"conversation_id\": self.conversation_id,\n",
        "#   \"parent_id\": self.parent_id,\n",
        "# }\n",
        "```"
      ],
      "metadata": {
        "id": "87TwD98mNzEp"
      },
      "id": "87TwD98mNzEp"
    },
    {
      "cell_type": "markdown",
      "source": [
        "source: [chatgpt-conversation](https://github.com/dnzengou/chatgpt-conversation)"
      ],
      "metadata": {
        "id": "5apkjukZOLLe"
      },
      "id": "5apkjukZOLLe"
    },
    {
      "cell_type": "code",
      "source": [
        "!sudo apt install portaudio19-dev python3-pyaudio ffmpeg espeak"
      ],
      "metadata": {
        "colab": {
          "base_uri": "https://localhost:8080/"
        },
        "id": "9NP_uBLkP1ff",
        "outputId": "09067f6f-71ee-4a58-ed5b-66fd7d7fbc69"
      },
      "id": "9NP_uBLkP1ff",
      "execution_count": 1,
      "outputs": [
        {
          "output_type": "stream",
          "name": "stdout",
          "text": [
            "Reading package lists... Done\n",
            "Building dependency tree       \n",
            "Reading state information... Done\n",
            "espeak is already the newest version (1.48.04+dfsg-5).\n",
            "portaudio19-dev is already the newest version (19.6.0-1).\n",
            "python3-pyaudio is already the newest version (0.2.11-1build2).\n",
            "ffmpeg is already the newest version (7:3.4.11-0ubuntu0.1).\n",
            "The following package was automatically installed and is no longer required:\n",
            "  libnvidia-common-460\n",
            "Use 'sudo apt autoremove' to remove it.\n",
            "0 upgraded, 0 newly installed, 0 to remove and 21 not upgraded.\n"
          ]
        }
      ]
    },
    {
      "cell_type": "code",
      "source": [
        "!pip install -r requirements.txt"
      ],
      "metadata": {
        "colab": {
          "base_uri": "https://localhost:8080/"
        },
        "id": "i7Zaz1JQP3id",
        "outputId": "787adb4e-f7bd-4144-bcce-38991e8b2a37"
      },
      "id": "i7Zaz1JQP3id",
      "execution_count": 2,
      "outputs": [
        {
          "output_type": "stream",
          "name": "stdout",
          "text": [
            "Looking in indexes: https://pypi.org/simple, https://us-python.pkg.dev/colab-wheels/public/simple/\n",
            "Collecting whisper@ git+https://github.com/openai/whisper.git@eff383b27b783e280c089475852ba83f20f64998\n",
            "  Using cached whisper-1.0-py3-none-any.whl\n",
            "Collecting certifi==2022.9.24\n",
            "  Using cached certifi-2022.9.24-py3-none-any.whl (161 kB)\n",
            "Requirement already satisfied: charset-normalizer==2.1.1 in /usr/local/lib/python3.8/dist-packages (from -r requirements.txt (line 2)) (2.1.1)\n",
            "Collecting click==8.1.3\n",
            "  Using cached click-8.1.3-py3-none-any.whl (96 kB)\n",
            "Collecting ffmpeg-python==0.2.0\n",
            "  Using cached ffmpeg_python-0.2.0-py3-none-any.whl (25 kB)\n",
            "Collecting filelock==3.8.0\n",
            "  Using cached filelock-3.8.0-py3-none-any.whl (10 kB)\n",
            "Collecting future==0.18.2\n",
            "  Using cached future-0.18.2-py3-none-any.whl\n",
            "Collecting gTTS==2.3.0\n",
            "  Using cached gTTS-2.3.0-py3-none-any.whl (26 kB)\n",
            "Collecting huggingface-hub==0.11.1\n",
            "  Using cached huggingface_hub-0.11.1-py3-none-any.whl (182 kB)\n",
            "Collecting idna==3.4\n",
            "  Using cached idna-3.4-py3-none-any.whl (61 kB)\n",
            "Requirement already satisfied: more-itertools==9.0.0 in /usr/local/lib/python3.8/dist-packages (from -r requirements.txt (line 10)) (9.0.0)\n",
            "Collecting numpy==1.23.5\n",
            "  Using cached numpy-1.23.5-cp38-cp38-manylinux_2_17_x86_64.manylinux2014_x86_64.whl (17.1 MB)\n",
            "Collecting nvidia-cublas-cu11==11.10.3.66\n",
            "  Using cached nvidia_cublas_cu11-11.10.3.66-py3-none-manylinux1_x86_64.whl (317.1 MB)\n",
            "Collecting nvidia-cuda-nvrtc-cu11==11.7.99\n",
            "  Using cached nvidia_cuda_nvrtc_cu11-11.7.99-2-py3-none-manylinux1_x86_64.whl (21.0 MB)\n",
            "Collecting nvidia-cuda-runtime-cu11==11.7.99\n",
            "  Using cached nvidia_cuda_runtime_cu11-11.7.99-py3-none-manylinux1_x86_64.whl (849 kB)\n",
            "Collecting nvidia-cudnn-cu11==8.5.0.96\n",
            "  Using cached nvidia_cudnn_cu11-8.5.0.96-2-py3-none-manylinux1_x86_64.whl (557.1 MB)\n",
            "Requirement already satisfied: packaging==21.3 in /usr/local/lib/python3.8/dist-packages (from -r requirements.txt (line 16)) (21.3)\n",
            "Collecting playsound==1.3.0\n",
            "  Using cached playsound-1.3.0-py3-none-any.whl\n",
            "Collecting PyAudio==0.2.12\n",
            "  Using cached PyAudio-0.2.12-cp38-cp38-linux_x86_64.whl\n",
            "Requirement already satisfied: pyparsing==3.0.9 in /usr/local/lib/python3.8/dist-packages (from -r requirements.txt (line 19)) (3.0.9)\n",
            "Requirement already satisfied: pyttsx3==2.90 in /usr/local/lib/python3.8/dist-packages (from -r requirements.txt (line 20)) (2.90)\n",
            "Requirement already satisfied: PyYAML==6.0 in /usr/local/lib/python3.8/dist-packages (from -r requirements.txt (line 21)) (6.0)\n",
            "Collecting regex==2022.10.31\n",
            "  Using cached regex-2022.10.31-cp38-cp38-manylinux_2_17_x86_64.manylinux2014_x86_64.whl (772 kB)\n",
            "Collecting requests==2.28.1\n",
            "  Using cached requests-2.28.1-py3-none-any.whl (62 kB)\n",
            "Collecting revChatGPT==0.0.14\n",
            "  Using cached revChatGPT-0.0.14-py3-none-any.whl (11 kB)\n",
            "Collecting six==1.16.0\n",
            "  Using cached six-1.16.0-py2.py3-none-any.whl (11 kB)\n",
            "Collecting SpeechRecognition==3.9.0\n",
            "  Using cached SpeechRecognition-3.9.0-py2.py3-none-any.whl (32.8 MB)\n",
            "Requirement already satisfied: tokenizers==0.13.2 in /usr/local/lib/python3.8/dist-packages (from -r requirements.txt (line 27)) (0.13.2)\n",
            "Requirement already satisfied: torch==1.13.0 in /usr/local/lib/python3.8/dist-packages (from -r requirements.txt (line 28)) (1.13.0+cu116)\n",
            "Requirement already satisfied: tqdm==4.64.1 in /usr/local/lib/python3.8/dist-packages (from -r requirements.txt (line 29)) (4.64.1)\n",
            "Collecting transformers==4.25.1\n",
            "  Using cached transformers-4.25.1-py3-none-any.whl (5.8 MB)\n",
            "Requirement already satisfied: typing_extensions==4.4.0 in /usr/local/lib/python3.8/dist-packages (from -r requirements.txt (line 31)) (4.4.0)\n",
            "Requirement already satisfied: urllib3==1.26.13 in /usr/local/lib/python3.8/dist-packages (from -r requirements.txt (line 32)) (1.26.13)\n",
            "Requirement already satisfied: wheel in /usr/local/lib/python3.8/dist-packages (from nvidia-cublas-cu11==11.10.3.66->-r requirements.txt (line 12)) (0.38.4)\n",
            "Requirement already satisfied: setuptools in /usr/local/lib/python3.8/dist-packages (from nvidia-cublas-cu11==11.10.3.66->-r requirements.txt (line 12)) (57.4.0)\n",
            "Installing collected packages: PyAudio, playsound, six, regex, nvidia-cuda-runtime-cu11, nvidia-cuda-nvrtc-cu11, nvidia-cublas-cu11, numpy, idna, future, filelock, click, certifi, requests, nvidia-cudnn-cu11, ffmpeg-python, SpeechRecognition, revChatGPT, huggingface-hub, gTTS, transformers, whisper\n",
            "  Attempting uninstall: PyAudio\n",
            "    Found existing installation: PyAudio 0.2.11\n",
            "\u001b[31mERROR: Cannot uninstall 'PyAudio'. It is a distutils installed project and thus we cannot accurately determine which files belong to it which would lead to only a partial uninstall.\u001b[0m\u001b[31m\n",
            "\u001b[0m"
          ]
        }
      ]
    },
    {
      "cell_type": "code",
      "source": [
        "!pip install SpeechRecognition"
      ],
      "metadata": {
        "colab": {
          "base_uri": "https://localhost:8080/"
        },
        "id": "QYh1gmEXibo3",
        "outputId": "908db5fc-d7ed-452e-d288-c4975cd9e250"
      },
      "id": "QYh1gmEXibo3",
      "execution_count": 5,
      "outputs": [
        {
          "output_type": "stream",
          "name": "stdout",
          "text": [
            "Looking in indexes: https://pypi.org/simple, https://us-python.pkg.dev/colab-wheels/public/simple/\n",
            "Collecting SpeechRecognition\n",
            "  Using cached SpeechRecognition-3.9.0-py2.py3-none-any.whl (32.8 MB)\n",
            "Collecting requests>=2.26.0\n",
            "  Using cached requests-2.28.1-py3-none-any.whl (62 kB)\n",
            "Requirement already satisfied: urllib3<1.27,>=1.21.1 in /usr/local/lib/python3.8/dist-packages (from requests>=2.26.0->SpeechRecognition) (1.26.13)\n",
            "Requirement already satisfied: certifi>=2017.4.17 in /usr/local/lib/python3.8/dist-packages (from requests>=2.26.0->SpeechRecognition) (2022.12.7)\n",
            "Requirement already satisfied: idna<4,>=2.5 in /usr/local/lib/python3.8/dist-packages (from requests>=2.26.0->SpeechRecognition) (2.10)\n",
            "Requirement already satisfied: charset-normalizer<3,>=2 in /usr/local/lib/python3.8/dist-packages (from requests>=2.26.0->SpeechRecognition) (2.1.1)\n",
            "Installing collected packages: requests, SpeechRecognition\n",
            "  Attempting uninstall: requests\n",
            "    Found existing installation: requests 2.25.1\n",
            "    Uninstalling requests-2.25.1:\n",
            "      Successfully uninstalled requests-2.25.1\n",
            "Successfully installed SpeechRecognition-3.9.0 requests-2.28.1\n"
          ]
        }
      ]
    },
    {
      "cell_type": "code",
      "source": [
        "#record.py\n",
        "\n",
        "#!/usr/bin/env python3\n",
        "import time\n",
        "\n",
        "import speech_recognition as sr\n",
        "\n",
        "\n",
        "class SpeechRecognizer:\n",
        "    def __init__(self, ambient_duration=2):\n",
        "        self.recognizer = sr.Recognizer()\n",
        "\n",
        "        with sr.Microphone() as source:\n",
        "            self.recognizer.adjust_for_ambient_noise(source, duration=ambient_duration)\n",
        "\n",
        "    def listen(self, model=\"base.en\"):\n",
        "        with sr.Microphone() as source:\n",
        "            audio = self.recognizer.listen(source)\n",
        "\n",
        "        try:\n",
        "            t = time.time()\n",
        "            text = self.recognizer.recognize_whisper(audio, language=\"english\", model=model)\n",
        "            time_parsing = time.time() - t\n",
        "            if time_parsing > 2:\n",
        "                print(f\"Recognized in {time.time() - t} seconds - maybe try using a small model. \"\n",
        "                      f\"See https://github.com/openai/whisper#available-models-and-languages.\")\n",
        "\n",
        "            return text\n",
        "\n",
        "        except sr.UnknownValueError:\n",
        "            print(\"Whisper could not understand audio\")\n",
        "        except sr.RequestError as e:\n",
        "            print(\"Could not request results from Whisper\")"
      ],
      "metadata": {
        "id": "U6BnYp6YN2Pa"
      },
      "id": "U6BnYp6YN2Pa",
      "execution_count": 6,
      "outputs": []
    },
    {
      "cell_type": "code",
      "source": [
        "#speak.py\n",
        "\n",
        "import pyttsx3\n",
        "\n",
        "\n",
        "class Speak:\n",
        "    def __init__(self):\n",
        "        self.engine = pyttsx3.init()\n",
        "        self.engine.setProperty('rate', 160)\n",
        "        self.engine.setProperty('volume', 0.8)\n",
        "\n",
        "    def speak(self, text):\n",
        "        self.engine.say(text)\n",
        "        self.engine.runAndWait()"
      ],
      "metadata": {
        "id": "VJyP-jQmOfMG"
      },
      "id": "VJyP-jQmOfMG",
      "execution_count": 7,
      "outputs": []
    },
    {
      "cell_type": "code",
      "source": [
        "#chatgpt-conversation.py\n",
        "\n",
        "#!/usr/bin/env python3\n",
        "import time\n",
        "\n",
        "import speech_recognition as sr\n",
        "\n",
        "\n",
        "class SpeechRecognizer:\n",
        "    def __init__(self, ambient_duration=2):\n",
        "        self.recognizer = sr.Recognizer()\n",
        "\n",
        "        with sr.Microphone() as source:\n",
        "            self.recognizer.adjust_for_ambient_noise(source, duration=ambient_duration)\n",
        "\n",
        "    def listen(self, model=\"base.en\"):\n",
        "        with sr.Microphone() as source:\n",
        "            audio = self.recognizer.listen(source)\n",
        "\n",
        "        try:\n",
        "            t = time.time()\n",
        "            text = self.recognizer.recognize_whisper(audio, language=\"english\", model=model)\n",
        "            time_parsing = time.time() - t\n",
        "            if time_parsing > 2:\n",
        "                print(f\"Recognized in {time.time() - t} seconds - maybe try using a small model. \"\n",
        "                      f\"See https://github.com/openai/whisper#available-models-and-languages.\")\n",
        "\n",
        "            return text\n",
        "\n",
        "        except sr.UnknownValueError:\n",
        "            print(\"Whisper could not understand audio\")\n",
        "        except sr.RequestError as e:\n",
        "            print(\"Could not request results from Whisper\")"
      ],
      "metadata": {
        "id": "A2G_i9R6Ofhh"
      },
      "id": "A2G_i9R6Ofhh",
      "execution_count": 8,
      "outputs": []
    },
    {
      "cell_type": "markdown",
      "source": [
        "```\n",
        "#!/usr/bin/python\n",
        "\n",
        "# NOTE: this example requires PyAudio because it uses the Microphone class\n",
        "\n",
        "import speech_recognition as sr\n",
        "\n",
        "# obtain audio from the microphone\n",
        "r = sr.Recognizer()\n",
        "with sr.Microphone() as source:\n",
        "    print(\"Say something!\")\n",
        "    audio = r.listen(source)\n",
        "\n",
        "# recognize speech using Sphinx\n",
        "try:\n",
        "    print(\"Sphinx thinks you said \" + r.recognize_sphinx(audio))\n",
        "except sr.UnknownValueError:\n",
        "    print(\"Sphinx could not understand audio\")\n",
        "except sr.RequestError as e:\n",
        "    print(\"Sphinx error; {0}\".format(e))\n",
        "\n",
        "# recognize speech using Google Speech Recognition\n",
        "try:\n",
        "    # for testing purposes, we're just using the default API key\n",
        "    # to use another API key, use `r.recognize_google(audio, key=\"GOOGLE_SPEECH_RECOGNITION_API_KEY\")`\n",
        "    # instead of `r.recognize_google(audio)`\n",
        "    print(\"Google Speech Recognition thinks you said \" + r.recognize_google(audio))\n",
        "except sr.UnknownValueError:\n",
        "    print(\"Google Speech Recognition could not understand audio\")\n",
        "except sr.RequestError as e:\n",
        "    print(\"Could not request results from Google Speech Recognition service; {0}\".format(e))\n",
        "```"
      ],
      "metadata": {
        "id": "aCbCvWUSzLq3"
      },
      "id": "aCbCvWUSzLq3"
    },
    {
      "cell_type": "code",
      "source": [],
      "metadata": {
        "id": "Y6IpE4PLzN5W"
      },
      "id": "Y6IpE4PLzN5W",
      "execution_count": null,
      "outputs": []
    }
  ],
  "metadata": {
    "kernelspec": {
      "display_name": "Python 3 (ipykernel)",
      "language": "python",
      "name": "python3"
    },
    "language_info": {
      "codemirror_mode": {
        "name": "ipython",
        "version": 3
      },
      "file_extension": ".py",
      "mimetype": "text/x-python",
      "name": "python",
      "nbconvert_exporter": "python",
      "pygments_lexer": "ipython3",
      "version": "3.9.7"
    },
    "colab": {
      "provenance": [],
      "include_colab_link": true
    }
  },
  "nbformat": 4,
  "nbformat_minor": 5
}